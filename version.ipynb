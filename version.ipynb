{
 "cells": [
  {
   "cell_type": "code",
   "execution_count": null,
   "metadata": {},
   "outputs": [],
   "source": [
    "import fitz  # PyMuPDF for PDF extraction\n",
    "\n",
    "# Load the PDF\n",
    "pdf_file = \"book.pdf\"\n",
    "pdf_document = fitz.open(pdf_file)\n",
    "\n",
    "# Extract text and tables from the PDF\n",
    "text = \"\"\n",
    "for page_num in range(pdf_document.page_count):\n",
    "    page = pdf_document.load_page(page_num)\n",
    "    text += page.get_text()\n",
    "\n",
    "# Save extracted text to a file\n",
    "with open(\"book.txt\", \"w\") as file:\n",
    "    file.write(text)\n"
   ]
  },
  {
   "cell_type": "code",
   "execution_count": null,
   "metadata": {},
   "outputs": [],
   "source": []
  }
 ],
 "metadata": {
  "language_info": {
   "name": "python"
  }
 },
 "nbformat": 4,
 "nbformat_minor": 2
}
